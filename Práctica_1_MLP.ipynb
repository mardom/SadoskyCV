{
  "nbformat": 4,
  "nbformat_minor": 0,
  "metadata": {
    "colab": {
      "provenance": [],
      "toc_visible": true,
      "gpuType": "T4",
      "include_colab_link": true
    },
    "kernelspec": {
      "name": "python3",
      "display_name": "Python 3"
    },
    "language_info": {
      "name": "python"
    },
    "accelerator": "GPU"
  },
  "cells": [
    {
      "cell_type": "markdown",
      "metadata": {
        "id": "view-in-github",
        "colab_type": "text"
      },
      "source": [
        "<a href=\"https://colab.research.google.com/github/mardom/SadoskyCV/blob/main/Pr%C3%A1ctica_1_MLP.ipynb\" target=\"_parent\"><img src=\"https://colab.research.google.com/assets/colab-badge.svg\" alt=\"Open In Colab\"/></a>"
      ]
    },
    {
      "cell_type": "markdown",
      "source": [
        "## Práctica 1: Clasificación de imágenes con un perceptrón multicapa (MLP)"
      ],
      "metadata": {
        "id": "bmwNSdyxw2rB"
      }
    },
    {
      "cell_type": "markdown",
      "source": [
        "En esta práctica aprenderemos a trabajar con imágenes y entrenaremos un **perceptrón multicapa** (MLP) para reconocer dígitos manuscritos."
      ],
      "metadata": {
        "id": "t3ziUy_hxXgF"
      }
    },
    {
      "cell_type": "markdown",
      "source": [
        "---"
      ],
      "metadata": {
        "id": "nrBgtenmyBC1"
      }
    },
    {
      "cell_type": "markdown",
      "source": [
        "### Bibliotecas y entorno de trabajo"
      ],
      "metadata": {
        "id": "GL9RpnKpxgxQ"
      }
    },
    {
      "cell_type": "markdown",
      "source": [
        "Primero, importamos las **bibliotecas** que vamos a necesitar para trabajar con imágenes y redes neuronales."
      ],
      "metadata": {
        "id": "eO9b7kYoyG3_"
      }
    },
    {
      "cell_type": "code",
      "execution_count": 1,
      "metadata": {
        "id": "aj4V8rmnwygr"
      },
      "outputs": [],
      "source": [
        "import numpy as np\n",
        "import random\n",
        "import torch\n",
        "import torch.nn as nn\n",
        "import torch.nn.functional as F\n",
        "import torch.optim as optim\n",
        "import matplotlib.pyplot as plt\n",
        "\n",
        "from torchvision import datasets, transforms\n",
        "from torch.utils.data import DataLoader, random_split\n",
        "from collections import Counter\n",
        "from sklearn.metrics import confusion_matrix"
      ]
    },
    {
      "cell_type": "markdown",
      "source": [
        "Definimos el **dispositivo** que vamos a usar para hacer los cálculos. Si la GPU está disponible, la usamos; si no, elegimos la CPU."
      ],
      "metadata": {
        "id": "9YB-U6kFyL7T"
      }
    },
    {
      "cell_type": "code",
      "source": [
        "device = torch.device(\"cuda\" if torch.cuda.is_available() else \"cpu\")\n",
        "print(f\"Dispositivo a utilizar: {device}\")"
      ],
      "metadata": {
        "id": "Audga2C3yMEl",
        "colab": {
          "base_uri": "https://localhost:8080/"
        },
        "outputId": "783d4df7-8833-4a5d-fbb6-a004f6d53caa"
      },
      "execution_count": 2,
      "outputs": [
        {
          "output_type": "stream",
          "name": "stdout",
          "text": [
            "Dispositivo a utilizar: cuda\n"
          ]
        }
      ]
    },
    {
      "cell_type": "markdown",
      "source": [
        "### Dataset MNIST"
      ],
      "metadata": {
        "id": "a-U5OrrAzLXK"
      }
    },
    {
      "cell_type": "markdown",
      "source": [
        "**MNIST** es uno de datasets más conocidos para tareas de clasificación de imágenes.\n",
        "\n",
        "El mismo contiene unas 60.000 imágenes de entrenamiento y 10.000 de prueba.\n",
        "\n",
        "Las imágenes son en escala de grises de 28x28 píxeles de tamaño y cada representa un dígito escrito a mano, del 0 al 9.\n",
        "\n",
        "\n",
        "Para empezar, vamos a descargar todo el dataset y luego lo vamos a dividirlo en tres conjuntos:\n",
        "- **Entrenamiento**: datos para entrenar el modelo.\n",
        "- **Validación**: datos para monitorear el rendimiento del modelo durante el entrenamiento.\n",
        "- **Prueba**: datos para medir el desempeño del modelo entrenado con datos nuevos."
      ],
      "metadata": {
        "id": "kxZZww9lzLfK"
      }
    },
    {
      "cell_type": "code",
      "source": [
        "# Transformación para convertir una imagen a tensor y las intensidades al rango [0, 1]\n",
        "transform = transforms.ToTensor()\n",
        "\n",
        "# Descargamos el dataset\n",
        "train_dataset = datasets.MNIST(root=\"./data\", train=True, transform=transform, download=True)\n",
        "test_dataset = datasets.MNIST(root=\"./data\", train=False, transform=transform)\n",
        "\n",
        "# Dividimos el conjunto de entrenamiento en 80% para entrenamiento y 20% para validación\n",
        "train_size = int(0.8 * len(train_dataset))\n",
        "val_size = len(train_dataset) - train_size\n",
        "train_dataset, val_dataset = random_split(train_dataset, [train_size, val_size])\n",
        "\n",
        "# Creamos los dataloaders para cargar los datos por lotes (batches)\n",
        "train_loader = DataLoader(train_dataset, batch_size=64, shuffle=True)\n",
        "val_loader = DataLoader(val_dataset, batch_size=1000, shuffle=False)\n",
        "test_loader = DataLoader(test_dataset, batch_size=1000, shuffle=False)\n",
        "\n",
        "print(f\"\\nTamaño del conjunto de entrenamiento: {len(train_dataset)}\")\n",
        "print(f\"Tamaño del conjunto de validación: {len(val_dataset)}\")\n",
        "print(f\"Tamaño del conjunto de prueba: {len(test_dataset)}\")"
      ],
      "metadata": {
        "id": "KsVBWeVt0KkC",
        "colab": {
          "base_uri": "https://localhost:8080/"
        },
        "outputId": "1d5ddb26-6002-4e31-cd4a-3565b9f9a5ab"
      },
      "execution_count": 3,
      "outputs": [
        {
          "output_type": "stream",
          "name": "stderr",
          "text": [
            "100%|██████████| 9.91M/9.91M [00:00<00:00, 16.2MB/s]\n",
            "100%|██████████| 28.9k/28.9k [00:00<00:00, 481kB/s]\n",
            "100%|██████████| 1.65M/1.65M [00:00<00:00, 4.44MB/s]\n",
            "100%|██████████| 4.54k/4.54k [00:00<00:00, 7.45MB/s]"
          ]
        },
        {
          "output_type": "stream",
          "name": "stdout",
          "text": [
            "\n",
            "Tamaño del conjunto de entrenamiento: 48000\n",
            "Tamaño del conjunto de validación: 12000\n",
            "Tamaño del conjunto de prueba: 10000\n"
          ]
        },
        {
          "output_type": "stream",
          "name": "stderr",
          "text": [
            "\n"
          ]
        }
      ]
    },
    {
      "cell_type": "markdown",
      "source": [
        "Veamos algunas imágenes del conjunto de entrenamiento junto con sus etiquetas."
      ],
      "metadata": {
        "id": "Z99tjL3lgap6"
      }
    },
    {
      "cell_type": "code",
      "source": [
        "# Seleccionamos 6 índices aleatorios del conjunto de entrenamiento\n",
        "random_indices = random.sample(range(len(train_dataset)), 6)\n",
        "\n",
        "plt.figure(figsize=(5, 4))\n",
        "\n",
        "for i, idx in enumerate(random_indices):\n",
        "    image, target = train_dataset[idx]\n",
        "\n",
        "    plt.subplot(2, 3, i + 1)\n",
        "    plt.imshow(image[0], cmap=\"gray\")\n",
        "    plt.title(f\"Etiqueta: {target}\")\n",
        "    plt.axis(\"off\")\n",
        "\n",
        "plt.tight_layout()\n",
        "plt.show()"
      ],
      "metadata": {
        "id": "7yFZrqQ_zLp0",
        "colab": {
          "base_uri": "https://localhost:8080/",
          "height": 391
        },
        "outputId": "5e9e712e-0d4d-41f6-fb70-5307fd624346"
      },
      "execution_count": 4,
      "outputs": [
        {
          "output_type": "display_data",
          "data": {
            "text/plain": [
              "<Figure size 500x400 with 6 Axes>"
            ],
            "image/png": "[encoded data removed]"
          },
          "metadata": {}
        }
      ]
    },
    {
      "cell_type": "markdown",
      "source": [
        "Ahora veamos cómo están distribuídas las clases en el conjunto de entrenamiento."
      ],
      "metadata": {
        "id": "TkWZLp0fEtMP"
      }
    },
    {
      "cell_type": "code",
      "source": [
        "# Obtenemos las etiquetas y contamos cuántas veces aparece cada clase\n",
        "labels = [label for _, label in train_dataset]\n",
        "class_counts = Counter(labels)\n",
        "\n",
        "sorted_counts = dict(sorted(class_counts.items()))\n",
        "\n",
        "plt.figure(figsize=(8, 4))\n",
        "plt.bar(sorted_counts.keys(), sorted_counts.values())\n",
        "plt.xlabel(\"Dígito\")\n",
        "plt.ylabel(\"Cantidad de imágenes\")\n",
        "plt.title(\"Distribución de clases en el conjunto de entrenamiento\")\n",
        "plt.xticks(range(10))\n",
        "plt.show()"
      ],
      "metadata": {
        "id": "X5TE7vV4EDNZ",
        "colab": {
          "base_uri": "https://localhost:8080/",
          "height": 411
        },
        "outputId": "70dd54d7-14da-4c73-dae6-dc5598ea1839"
      },
      "execution_count": 5,
      "outputs": [
        {
          "output_type": "display_data",
          "data": {
            "text/plain": [
              "<Figure size 800x400 with 1 Axes>"
            ],
            "image/png": "[encoded data removed]"
          },
          "metadata": {}
        }
      ]
    },
    {
      "cell_type": "markdown",
      "source": [
        "Como todas las clases tienen aproximadamente la misma cantidad de imágenes, podemos decir que el conjunto está **balanceado**."
      ],
      "metadata": {
        "id": "dL17hAcTFZrL"
      }
    },
    {
      "cell_type": "markdown",
      "source": [
        "### Perceptrón multicapa (MLP)"
      ],
      "metadata": {
        "id": "WByL8tmV0rBt"
      }
    },
    {
      "cell_type": "markdown",
      "source": [
        "Ahora vamos a construir una red neuronal sencilla que luego entrenaremos para que aprenda a reconocer los dígitos.\n",
        "\n",
        "Utilizaremos un tipo de red neuronal **\"feedforward\" totalmente conectada**, conocida como **perceptrón multicapa** (MLP).\n",
        "\n",
        "Nuestro MLP tendrá tres capas:\n",
        "- Una **capa de entrada** de 784 unidades (porque cada imagen es de 28x28 píxeles → 28 x 28 = 784).\n",
        "- Una **capa oculta** de 32 unidades con función de activación ReLU.\n",
        "- Una **capa de salida** con 10 unidades (una unidad para cada dígito del 0 al 9)."
      ],
      "metadata": {
        "id": "qL294FI70rMT"
      }
    },
    {
      "cell_type": "code",
      "source": [
        "class MLP(nn.Module):\n",
        "    def __init__(self):\n",
        "        super().__init__()\n",
        "        # Definimos las capas de la red\n",
        "        self.fc1 = nn.Linear(784, 32, bias=True)\n",
        "        self.fc2 = nn.Linear(32, 10, bias=True)\n",
        "\n",
        "    def forward(self, x):\n",
        "        # Implementamos la pasada hacia adelante\n",
        "        x = x.view(-1, 784)\n",
        "\n",
        "        x = self.fc1(x)\n",
        "        x = F.relu(x)\n",
        "        x = self.fc2(x)\n",
        "\n",
        "        return x"
      ],
      "metadata": {
        "id": "afY_3SIZ0rc2"
      },
      "execution_count": 27,
      "outputs": []
    },
    {
      "cell_type": "markdown",
      "source": [
        "### Entrenamiento y evaluación"
      ],
      "metadata": {
        "id": "0GQ2ncsd1GcR"
      }
    },
    {
      "cell_type": "markdown",
      "source": [
        "Una vez definida la red, tenemos que **entrenarla** con ejemplos (imágenes y sus etiquetas), y luego **evaluar** su rendimiento.\n",
        "\n",
        "Para ello, vamos a implementar dos funciones; `train` y `evaluate`.\n",
        "\n",
        "La función `train` **entrena** el modelo durante una **época** utilizando el **conjunto de entrenamiento**.\n",
        "\n",
        "Recordemos que las épocas son las repeticiones o \"pasadas\" sobre el conjunto de entrenamiento."
      ],
      "metadata": {
        "id": "6l-UjJUw1Kd3"
      }
    },
    {
      "cell_type": "code",
      "source": [
        "def train(model, criterion, optimizer, train_loader, device):\n",
        "    # Ponemos el modelo en modo entrenamiento\n",
        "    model.train()\n",
        "\n",
        "    total_loss = 0\n",
        "\n",
        "    # Recorremos los datos de entrenamiento por batches\n",
        "    for batch in train_loader:\n",
        "\n",
        "        # Obtenemos imágenes y etiquetas\n",
        "        images, targets = batch[0], batch[1]\n",
        "        images, targets = images.to(device), targets.to(device)\n",
        "\n",
        "        # Pasada hacia adelante\n",
        "        outputs = model(images)\n",
        "\n",
        "        # Calculamos la pérdida\n",
        "        loss = criterion(outputs, targets)\n",
        "\n",
        "        # Limpiamos gradientes, aplicamos backpropagation y actualizamos los pesos\n",
        "        optimizer.zero_grad()\n",
        "        loss.backward()\n",
        "        optimizer.step()\n",
        "\n",
        "        total_loss += loss.item()\n",
        "\n",
        "    # Pérdida promedio\n",
        "    train_loss = total_loss / len(train_loader)\n",
        "\n",
        "    return train_loss"
      ],
      "metadata": {
        "id": "8lX1IC2zopp0"
      },
      "execution_count": 8,
      "outputs": []
    },
    {
      "cell_type": "markdown",
      "source": [
        "La función `evaluate` **evalúa** el modelo en el **conjunto de validación** y calcula el **porcentaje de aciertos** (precisión o *accuracy*)."
      ],
      "metadata": {
        "id": "C8v7Hc-jqBan"
      }
    },
    {
      "cell_type": "code",
      "source": [
        "def evaluate(model, criterion, val_loader, device):\n",
        "    # Ponemos el modelo en modo evaluación\n",
        "    model.eval()\n",
        "\n",
        "    total_loss = 0\n",
        "    correct = 0\n",
        "    total = 0\n",
        "\n",
        "    all_predictions = []\n",
        "    all_targets = []\n",
        "\n",
        "    # Desactivamos el cálculo de gradientes\n",
        "    with torch.no_grad():\n",
        "\n",
        "        # Recorremos los datos de validación por batches\n",
        "        for batch in val_loader:\n",
        "            images, targets = batch[0], batch[1]\n",
        "            images, targets = images.to(device), targets.to(device)\n",
        "\n",
        "            outputs = model(images)\n",
        "            loss = criterion(outputs, targets)\n",
        "\n",
        "            total_loss += loss.item()\n",
        "\n",
        "            # Predicciones: elegimos la clase con mayor score\n",
        "            predictions = outputs.argmax(dim=1)\n",
        "\n",
        "            # Contamos las predicciones correctas\n",
        "            correct += (predictions == targets).sum().item()\n",
        "            total += len(targets)\n",
        "\n",
        "            # Guardamos predicciones y salidas correctas para visualizar luego\n",
        "            all_predictions.extend(predictions.cpu().numpy())\n",
        "            all_targets.extend(targets.cpu().numpy())\n",
        "\n",
        "    # Pérdida promedio\n",
        "    test_loss = total_loss / len(val_loader)\n",
        "\n",
        "    # Porcentaje de aciertos\n",
        "    test_acc = correct / total * 100\n",
        "\n",
        "    return test_loss, test_acc, all_predictions, all_targets"
      ],
      "metadata": {
        "id": "dqwGTsE-1L6Q"
      },
      "execution_count": 21,
      "outputs": []
    },
    {
      "cell_type": "markdown",
      "source": [
        "### Entrenamos el MLP"
      ],
      "metadata": {
        "id": "m1pRiHE81RDN"
      }
    },
    {
      "cell_type": "markdown",
      "source": [
        "Ahora vamos a proceder con el **entrenamiento** de la red neuronal.\n",
        "\n",
        "Para ello, **inicializamos** nuestro MLP y lo movemos al dispositivo (GPU o CPU).\n",
        "\n",
        "Luego definimos la **función de pérdida** (para medir el error) y el **método de optimización** (para ajustar los pesos).\n",
        "\n",
        "La función de pérdida que utilizaremos para calcular el error de la red será la **entropía cruzada**.\n",
        "\n",
        "En cuanto al método de optimización, usaremos el **descenso por gradiente estocástico** (SGD) con una **tasa de aprendizaje** de 0.01."
      ],
      "metadata": {
        "id": "JgJKpcGN1UBC"
      }
    },
    {
      "cell_type": "code",
      "source": [
        "model = MLP().to(device)\n",
        "\n",
        "criterion = nn.CrossEntropyLoss()\n",
        "optimizer = optim.SGD(model.parameters(), lr=0.01)\n",
        "\n",
        "print(model)"
      ],
      "metadata": {
        "id": "VaOyxfQa1UeJ",
        "colab": {
          "base_uri": "https://localhost:8080/"
        },
        "outputId": "fd78b58f-41a3-441a-e2a5-62ce2da006b4"
      },
      "execution_count": 28,
      "outputs": [
        {
          "output_type": "stream",
          "name": "stdout",
          "text": [
            "MLP(\n",
            "  (fc1): Linear(in_features=784, out_features=32, bias=True)\n",
            "  (fc2): Linear(in_features=32, out_features=10, bias=True)\n",
            ")\n"
          ]
        }
      ]
    },
    {
      "cell_type": "markdown",
      "source": [
        "Entrenamos el modelo durante **20 épocas** y registramos la pérdida y la precisión en cada época."
      ],
      "metadata": {
        "id": "gyZUMDMVr4Nq"
      }
    },
    {
      "cell_type": "code",
      "source": [
        "num_epochs = 20\n",
        "\n",
        "train_losses = []\n",
        "val_losses = []\n",
        "val_accuracies = []\n",
        "\n",
        "# Ciclo de entrenamiento\n",
        "for epoch in range(num_epochs):\n",
        "    # Entrenamos el modelo una época completa\n",
        "    train_loss = train(model, criterion, optimizer, train_loader, device)\n",
        "\n",
        "    # Evaluamos el modelo en el conjunto de validación\n",
        "    val_loss, val_acc, _, _ = evaluate(model, criterion, val_loader, device)\n",
        "\n",
        "    # Guardamos los resultados de esta época\n",
        "    train_losses.append(train_loss)\n",
        "    val_losses.append(val_loss)\n",
        "    val_accuracies.append(val_acc)\n",
        "\n",
        "    print(f\"Epoca {epoch+1}: Train loss = {train_loss:.4f}, Val loss = {val_loss:.4f}, Val acc = {val_acc:.2f}%\")"
      ],
      "metadata": {
        "id": "MSAgpB81r9iD",
        "colab": {
          "base_uri": "https://localhost:8080/"
        },
        "outputId": "8f02b96b-ca68-4150-ad59-782b05d5cd06"
      },
      "execution_count": 29,
      "outputs": [
        {
          "output_type": "stream",
          "name": "stdout",
          "text": [
            "Epoca 1: Train loss = 1.4261, Val loss = 0.7449, Val acc = 83.83%\n",
            "Epoca 2: Train loss = 0.5816, Val loss = 0.4860, Val acc = 87.84%\n",
            "Epoca 3: Train loss = 0.4405, Val loss = 0.4076, Val acc = 89.23%\n",
            "Epoca 4: Train loss = 0.3867, Val loss = 0.3702, Val acc = 89.87%\n",
            "Epoca 5: Train loss = 0.3571, Val loss = 0.3493, Val acc = 90.33%\n",
            "Epoca 6: Train loss = 0.3374, Val loss = 0.3319, Val acc = 90.80%\n",
            "Epoca 7: Train loss = 0.3227, Val loss = 0.3190, Val acc = 90.92%\n",
            "Epoca 8: Train loss = 0.3107, Val loss = 0.3090, Val acc = 91.27%\n",
            "Epoca 9: Train loss = 0.3005, Val loss = 0.3007, Val acc = 91.37%\n",
            "Epoca 10: Train loss = 0.2918, Val loss = 0.2928, Val acc = 91.73%\n",
            "Epoca 11: Train loss = 0.2836, Val loss = 0.2860, Val acc = 91.83%\n",
            "Epoca 12: Train loss = 0.2762, Val loss = 0.2795, Val acc = 92.05%\n",
            "Epoca 13: Train loss = 0.2691, Val loss = 0.2739, Val acc = 92.12%\n",
            "Epoca 14: Train loss = 0.2627, Val loss = 0.2680, Val acc = 92.22%\n",
            "Epoca 15: Train loss = 0.2563, Val loss = 0.2620, Val acc = 92.50%\n",
            "Epoca 16: Train loss = 0.2502, Val loss = 0.2579, Val acc = 92.60%\n",
            "Epoca 17: Train loss = 0.2444, Val loss = 0.2521, Val acc = 92.70%\n",
            "Epoca 18: Train loss = 0.2389, Val loss = 0.2479, Val acc = 92.90%\n",
            "Epoca 19: Train loss = 0.2336, Val loss = 0.2440, Val acc = 92.94%\n",
            "Epoca 20: Train loss = 0.2284, Val loss = 0.2388, Val acc = 92.96%\n"
          ]
        }
      ]
    },
    {
      "cell_type": "markdown",
      "source": [
        "### Visualizamos el entrenamiento"
      ],
      "metadata": {
        "id": "qlIWXS211c8I"
      }
    },
    {
      "cell_type": "markdown",
      "source": [
        "Veamos en un gráfico cómo evoluciona la pérdida y la precisión a lo largo de las épocas para monitorear si el modelo está aprendiendo bien."
      ],
      "metadata": {
        "id": "JMtpocFn1e-q"
      }
    },
    {
      "cell_type": "code",
      "source": [
        "plt.figure(figsize=(10, 4))\n",
        "\n",
        "# Pérdida\n",
        "plt.subplot(1, 2, 1)\n",
        "plt.plot(train_losses, label=\"Entrenamiento\", color=\"blue\")\n",
        "plt.plot(val_losses, label=\"Validación\", color=\"red\")\n",
        "plt.xlabel(\"Epoca\")\n",
        "plt.ylabel(\"Pérdida (loss)\")\n",
        "plt.xticks(range(0, num_epochs, 2))\n",
        "plt.legend()\n",
        "\n",
        "# Precisión\n",
        "plt.subplot(1, 2, 2)\n",
        "plt.plot(val_accuracies, label=\"Validación\", color=\"red\")\n",
        "plt.xlabel(\"Epoca\")\n",
        "plt.ylabel(\"Precisión (accuracy)\")\n",
        "plt.xticks(range(0, num_epochs, 2))\n",
        "plt.legend()\n",
        "\n",
        "plt.suptitle(\"Evolución de la pérdida y precisión durante el entrenamiento\")\n",
        "plt.tight_layout()\n",
        "plt.show()"
      ],
      "metadata": {
        "id": "VDIz-X2q1iuE",
        "colab": {
          "base_uri": "https://localhost:8080/",
          "height": 413
        },
        "outputId": "b98847c3-a5c0-4163-b3bd-2cdb87a21193"
      },
      "execution_count": 30,
      "outputs": [
        {
          "output_type": "display_data",
          "data": {
            "text/plain": [
              "<Figure size 1000x400 with 2 Axes>"
            ],
            "image/png": "[encoded data removed]"
          },
          "metadata": {}
        }
      ]
    },
    {
      "cell_type": "markdown",
      "source": [
        "Si la pérdida baja con las épocas y la precisión sube, entonces el modelo está aprendiendo bien.\n",
        "\n",
        "En cambio, si la pérdida en validación empieza a subir mientras la de entrenamiento sigue bajando, podría haber sobreajuste."
      ],
      "metadata": {
        "id": "lMj2Nntf0VSz"
      }
    },
    {
      "cell_type": "markdown",
      "source": [
        "### Evaluación final del modelo"
      ],
      "metadata": {
        "id": "UrzQyfxO1mzF"
      }
    },
    {
      "cell_type": "markdown",
      "source": [
        "Si todo salió bien, ahora es momento de probar el modelo entrenado en el **conjunto de prueba**.\n",
        "\n",
        "Recordemos que este conjunto contiene imágenes que la red no vió durante el entrenamiento.\n",
        "\n",
        "Este paso nos permitirá saber qué tan bien **generaliza** nuestro modelo a datos nuevos."
      ],
      "metadata": {
        "id": "qjuy0q111pR3"
      }
    },
    {
      "cell_type": "code",
      "source": [
        "_, test_acc, predictions, targets = evaluate(..., criterion, ..., device)\n",
        "print(f\"Precisión del MLP en el conjunto de prueba: {test_acc:.2f}%\")"
      ],
      "metadata": {
        "id": "cqE6Te7t1u-B"
      },
      "execution_count": null,
      "outputs": []
    },
    {
      "cell_type": "markdown",
      "source": [
        "Ahora veamos más en detalle cómo se distribuyen las predicciones de la red en cada una de las clases:"
      ],
      "metadata": {
        "id": "tGQhmhzwf99g"
      }
    },
    {
      "cell_type": "code",
      "source": [
        "# Calculamos la matriz de confusión\n",
        "cm = confusion_matrix(targets, predictions)\n",
        "\n",
        "class_names = [str(i) for i in range(10)]\n",
        "\n",
        "plt.figure(figsize=(6, 5))\n",
        "\n",
        "plt.imshow(cm, interpolation=\"nearest\", cmap=\"Blues\")\n",
        "plt.title(\"Matriz de confusión\")\n",
        "plt.colorbar()\n",
        "\n",
        "for i in range(len(class_names)):\n",
        "    for j in range(len(class_names)):\n",
        "        plt.text(j, i, format(cm[i, j], \"d\"), ha=\"center\", va=\"center\",\n",
        "                 color=\"white\" if i == j else \"black\")\n",
        "\n",
        "tick_marks = np.arange(len(class_names))\n",
        "plt.xticks(tick_marks, class_names)\n",
        "plt.yticks(tick_marks, class_names)\n",
        "\n",
        "plt.xlabel(\"Etiqueta predicha\")\n",
        "plt.ylabel(\"Etiqueta real\")\n",
        "plt.tight_layout()\n",
        "plt.show()"
      ],
      "metadata": {
        "id": "y5xaHRCooD9t"
      },
      "execution_count": null,
      "outputs": []
    },
    {
      "cell_type": "markdown",
      "source": [
        "---"
      ],
      "metadata": {
        "id": "TXdy4ShdNu9r"
      }
    },
    {
      "cell_type": "markdown",
      "source": [
        "### Recursos"
      ],
      "metadata": {
        "id": "M0HXNGYOV5W9"
      }
    },
    {
      "cell_type": "markdown",
      "source": [
        "- [Tutorial de PyTorch](https://docs.pytorch.org/tutorials/beginner/basics/intro.html)\n",
        "- [Tutorial de Matplotlib](https://matplotlib.org/stable/tutorials/index.html)\n",
        "- [Tutorial de NumPy](https://numpy.org/doc/stable/user/absolute_beginners.html)\n",
        "- [Tutorial de Python](https://docs.python.org/3.13/tutorial/index.html)"
      ],
      "metadata": {
        "id": "5d2AzeX8V88Z"
      }
    }
  ]
}